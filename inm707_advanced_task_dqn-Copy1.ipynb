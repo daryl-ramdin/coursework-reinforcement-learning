{
 "cells": [
  {
   "cell_type": "code",
   "execution_count": null,
   "metadata": {
    "executionInfo": {
     "elapsed": 224,
     "status": "ok",
     "timestamp": 1682176519627,
     "user": {
      "displayName": "Daryl",
      "userId": "15313743877610411949"
     },
     "user_tz": -60
    },
    "id": "cvTu5Oc-SaLe"
   },
   "outputs": [],
   "source": [
    "#ref: https://stackoverflow.com/questions/52733786/how-to-import-custom-modules-in-google-colab\n",
    "import sys\n",
    "sys.path.insert(0,\"/content/drive/MyDrive/Colab Notebooks\")\n",
    "!pip install gymnasium"
   ]
  },
  {
   "cell_type": "code",
   "execution_count": null,
   "metadata": {
    "executionInfo": {
     "elapsed": 7,
     "status": "ok",
     "timestamp": 1682176519945,
     "user": {
      "displayName": "Daryl",
      "userId": "15313743877610411949"
     },
     "user_tz": -60
    },
    "id": "W4F4OorkNAby"
   },
   "outputs": [],
   "source": [
    "import numpy as np\n",
    "import torch\n",
    "import torch.nn as nn\n",
    "import torch.nn.functional as F #INM707 Lab 8\n",
    "import random\n",
    "import jungle\n",
    "from jungleenv import JungleEnv\n",
    "import dqn\n",
    "import matplotlib.pyplot as plt\n",
    "from collections import namedtuple, deque\n",
    "import torch.optim as optim"
   ]
  },
  {
   "cell_type": "code",
   "execution_count": null,
   "metadata": {
    "colab": {
     "base_uri": "https://localhost:8080/"
    },
    "executionInfo": {
     "elapsed": 6,
     "status": "ok",
     "timestamp": 1682176519945,
     "user": {
      "displayName": "Daryl",
      "userId": "15313743877610411949"
     },
     "user_tz": -60
    },
    "id": "FXVO17X5lcsP",
    "outputId": "73885319-bef5-431c-8cec-4b8739f64651"
   },
   "outputs": [],
   "source": [
    "if torch.cuda.is_available():\n",
    "  device = torch.device(\"cuda\")\n",
    "  print(\"cuda\")\n",
    "else:\n",
    "  device = torch.device(\"cpu\") \n",
    "  print(\"cpu\")"
   ]
  },
  {
   "cell_type": "code",
   "execution_count": null,
   "metadata": {
    "executionInfo": {
     "elapsed": 4,
     "status": "ok",
     "timestamp": 1682176519945,
     "user": {
      "displayName": "Daryl",
      "userId": "15313743877610411949"
     },
     "user_tz": -60
    },
    "id": "SqecLCZ3Aznz"
   },
   "outputs": [],
   "source": [
    "#Set Q Learning parameters\n",
    "experiment_name = \"exp1\"\n",
    "episodes = 1000\n",
    "\n",
    "\n",
    "parameters = [\n",
    "    {\"experiment_id\":1, \"seed\":45, \"algorithm\":\"Double\", \"episodes\":episodes, \"epsilon\": 0.9, \"gamma\":0.9, \"epsilon_decay\":0.9999, \"learning_rate\":1e-03, \"buffer_size\":1000, \"batch_size\":100, \"target_update_interval\":100, \"loss_type\":dqn.LossFunction.MSE,\"device\":device,\"duelling\":False, \"sizeof_hidden\":256,\"number_of_hidden\": 4,\"number_of_common\": 2,\"number_of_value\": 2,\"number_of_advantage\": 2,\"display\":[\"gamma\"]}\n",
    "    ,{\"experiment_id\":2, \"seed\":45, \"algorithm\":\"Double\", \"episodes\":episodes, \"epsilon\": 0.9, \"gamma\":0.7, \"epsilon_decay\":0.9999, \"learning_rate\":1e-03, \"buffer_size\":1000, \"batch_size\":100, \"target_update_interval\":100, \"loss_type\":dqn.LossFunction.MSE,\"device\":device,\"duelling\":False, \"sizeof_hidden\":256,\"number_of_hidden\": 4,\"number_of_common\": 2,\"number_of_value\": 2,\"number_of_advantage\": 2,\"display\":[\"gamma\"]}\n",
    "    ,{\"experiment_id\":3, \"seed\":45, \"algorithm\":\"Double\", \"episodes\":episodes, \"epsilon\": 0.9, \"gamma\":0.5, \"epsilon_decay\":0.9999, \"learning_rate\":1e-03, \"buffer_size\":1000, \"batch_size\":100, \"target_update_interval\":100, \"loss_type\":dqn.LossFunction.MSE,\"device\":device,\"duelling\":False, \"sizeof_hidden\":256,\"number_of_hidden\": 4,\"number_of_common\": 2,\"number_of_value\": 2,\"number_of_advantage\": 2,\"display\":[\"gamma\"]}\n",
    "    ,{\"experiment_id\":4, \"seed\":45, \"algorithm\":\"Double\", \"episodes\":episodes, \"epsilon\": 0.9, \"gamma\":0.3, \"epsilon_decay\":0.9999, \"learning_rate\":1e-03, \"buffer_size\":1000, \"batch_size\":100, \"target_update_interval\":100, \"loss_type\":dqn.LossFunction.MSE,\"device\":device,\"duelling\":False, \"sizeof_hidden\":256,\"number_of_hidden\": 4,\"number_of_common\": 2,\"number_of_value\": 2,\"number_of_advantage\": 2,\"display\":[\"gamma\"]}\n",
    "    ,{\"experiment_id\":5, \"seed\":45, \"algorithm\":\"Double\", \"episodes\":episodes, \"epsilon\": 0.9, \"gamma\":0, \"epsilon_decay\":0.9999, \"learning_rate\":1e-03, \"buffer_size\":1000, \"batch_size\":100, \"target_update_interval\":100, \"loss_type\":dqn.LossFunction.MSE,\"device\":device,\"duelling\":False, \"sizeof_hidden\":256,\"number_of_hidden\": 4,\"number_of_common\": 2,\"number_of_value\": 2,\"number_of_advantage\": 2,\"display\":[\"gamma\"]}\n",
    "    #{\"experiment_id\":5, \"seed\":45, \"algorithm\":\"Classic\", \"episodes\":episodes, \"epsilon\": 0.9, \"gamma\":0, \"epsilon_decay\":0.999, \"learning_rate\":1e-03, \"buffer_size\":1000, \"batch_size\":100, \"target_update_interval\":100, \"loss_type\":dqn.LossFunction.MSE,\"device\":device,\"duelling\":False, \"sizeof_hidden\":256,\"number_of_hidden\": 4,\"number_of_common\": 2,\"number_of_value\": 2,\"number_of_advantage\": 2,\"display\":[\"gamma\"]}\n",
    "\n",
    "]\n",
    "                         "
   ]
  },
  {
   "cell_type": "code",
   "execution_count": null,
   "metadata": {
    "colab": {
     "base_uri": "https://localhost:8080/"
    },
    "executionInfo": {
     "elapsed": 74720,
     "status": "ok",
     "timestamp": 1682176594661,
     "user": {
      "displayName": "Daryl",
      "userId": "15313743877610411949"
     },
     "user_tz": -60
    },
    "id": "5h-aklbFNIH9",
    "outputId": "b9743dbc-61ad-4017-cc95-23eb3a53603c"
   },
   "outputs": [],
   "source": [
    "env = JungleEnv(7)\n",
    "kwargs = {}\n",
    "\n",
    "results = []\n",
    "for kwargs in parameters:\n",
    "    if kwargs[\"algorithm\"] == \"Classic\":\n",
    "      dqnagent = dqn.ClassicDQNAgent(env, **kwargs)\n",
    "    else:\n",
    "        dqnagent = dqn.DoubleDQNAgent(env,**kwargs)\n",
    "\n",
    "    results += dqnagent.train(experiment_id = kwargs[\"experiment_id\"],episodes=kwargs[\"episodes\"], seed=kwargs[\"seed\"])\n",
    "\n",
    "\n"
   ]
  },
  {
   "cell_type": "code",
   "execution_count": null,
   "metadata": {
    "colab": {
     "base_uri": "https://localhost:8080/",
     "height": 1000
    },
    "executionInfo": {
     "elapsed": 691,
     "status": "ok",
     "timestamp": 1682176595329,
     "user": {
      "displayName": "Daryl",
      "userId": "15313743877610411949"
     },
     "user_tz": -60
    },
    "id": "u5fgWOaCDuyQ",
    "outputId": "ee4831aa-04bf-4bb7-8acc-59902490ea6a"
   },
   "outputs": [],
   "source": [
    "for params in parameters:\n",
    "    # Get the experiment id\n",
    "    id = params[\"experiment_id\"]\n",
    "    display_params = params[\"display\"]\n",
    "    # Get all the results for this experiment\n",
    "    exp_res = [res for res in results if res[\"experiment_id\"] == id]\n",
    "\n",
    "    \n",
    "    \n",
    "    # Build the label\n",
    "    display_label = \"\"\n",
    "    for item in display_params:\n",
    "        display_label += item + \": \" + str(params[item]) + \" \"\n",
    "\n",
    "\n",
    "    # For the experiment, get the metrics to display\n",
    "    rewards = np.array([[res[\"episode\"], res[\"episode_reward\"], 0] for res in exp_res])\n",
    "    steps_in_episode = np.array([[res[\"episode\"], res[\"steps_taken\"], 0] for res in exp_res])\n",
    "    ending_topography = np.array([[res[\"episode\"], res[\"topography\"], 0] for res in exp_res])\n",
    "    treasure_counter = np.array([[res[\"episode\"], res[\"treasure_counter\"], 0] for res in exp_res])\n",
    "\n",
    "\n",
    "    for i in range(len(rewards)):\n",
    "        rewards[i][2] = sum(rewards[0:i + 1, [1]]) / (i + 1)  # calculate the average cumulative reward\n",
    "        steps_in_episode[i][2] = sum(steps_in_episode[0:i + 1, [1]]) / (i + 1)  # calculate the average number of steps\n",
    "        #treasure_counter[i][2] = sum(treasure_counter[0:i + 1, [1]]) / (i + 1)  # calculate the average number of steps\n",
    "   \n",
    "    plt.figure(1)\n",
    "    plt.plot(rewards[:, [0]], rewards[:, [2]], label=display_label)\n",
    "    plt.title(\"Average Cummulative Reward\")\n",
    "    plt.figure(2)\n",
    "    plt.plot(steps_in_episode[:, [0]], steps_in_episode[:, [2]], label=display_label)\n",
    "    plt.title(\"Running Average Number of Steps\")\n",
    "    plt.figure(3)\n",
    "    plt.plot(treasure_counter[:, [0]], treasure_counter[:, [1]], label=display_label)\n",
    "    plt.title(\"Treasure Counter\")\n",
    "\n",
    "\n",
    "plt.figure(1)\n",
    "plt.legend()\n",
    "\n",
    "plt.figure(2)\n",
    "plt.legend()\n",
    "\n",
    "plt.figure(3)\n",
    "plt.legend()\n",
    "\n",
    "\n",
    "plt.show()\n"
   ]
  },
  {
   "cell_type": "code",
   "execution_count": null,
   "metadata": {
    "colab": {
     "base_uri": "https://localhost:8080/"
    },
    "executionInfo": {
     "elapsed": 25,
     "status": "ok",
     "timestamp": 1682176595329,
     "user": {
      "displayName": "Daryl",
      "userId": "15313743877610411949"
     },
     "user_tz": -60
    },
    "id": "Ao2cwRxwboNF",
    "outputId": "cd34bc92-a531-4b37-e393-45ce56d1158f"
   },
   "outputs": [],
   "source": [
    "print(results)"
   ]
  }
 ],
 "metadata": {
  "accelerator": "GPU",
  "colab": {
   "authorship_tag": "ABX9TyOo8mMp3yrupP3zrvVLqOKT",
   "mount_file_id": "11QyB1b32Pv_YbtPAUeSJoxYdE2Iyr2_-",
   "provenance": []
  },
  "gpuClass": "standard",
  "kernelspec": {
   "display_name": "Python 3 (ipykernel)",
   "language": "python",
   "name": "python3"
  },
  "language_info": {
   "codemirror_mode": {
    "name": "ipython",
    "version": 3
   },
   "file_extension": ".py",
   "mimetype": "text/x-python",
   "name": "python",
   "nbconvert_exporter": "python",
   "pygments_lexer": "ipython3",
   "version": "3.9.13"
  }
 },
 "nbformat": 4,
 "nbformat_minor": 4
}
