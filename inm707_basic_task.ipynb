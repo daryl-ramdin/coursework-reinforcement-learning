{
 "cells": [
  {
   "cell_type": "markdown",
   "id": "e7d38934-3c3c-48df-9508-33690944f2a3",
   "metadata": {},
   "source": [
    "<h1>Import necessary package and modules</h1>"
   ]
  },
  {
   "cell_type": "code",
   "execution_count": 1,
   "id": "223e8c0d-ebc8-47e6-b0e1-9eaa254cc20c",
   "metadata": {},
   "outputs": [],
   "source": [
    "from matplotlib import pyplot as plt\n",
    "from jungle import  Jungle\n",
    "from hiker import HikerAgent\n",
    "import numpy as np\n",
    "import pandas as pd"
   ]
  },
  {
   "cell_type": "markdown",
   "id": "61462411-f0ce-489a-8f9a-2b9d2432bac6",
   "metadata": {},
   "source": [
    "<h1>SetParameters </h1>"
   ]
  },
  {
   "cell_type": "code",
   "execution_count": 2,
   "id": "5fb32c71-d5eb-4ea1-8136-a54fb156ba17",
   "metadata": {},
   "outputs": [],
   "source": [
    "#Set Q Learning parameters\n",
    "experiment_name = \"exp1\"\n",
    "episodes = 2000\n",
    "timesteps = 200\n",
    "\n",
    "parameters = [\n",
    "    {\"experiment_id\":1, \"seed\":5, \"sarsa\":False, \"epsilon\": 1, \"alpha\":0.7, \"gamma\": 0.9, \"epsilon_decay\":0.999, \"timesteps\":timesteps, \"episodes\":episodes, \"display\":[\"epsilon\"]},\n",
    "    {\"experiment_id\":2, \"seed\":5, \"sarsa\":False,  \"epsilon\": 0.9, \"alpha\":0.7, \"gamma\": 0.9, \"epsilon_decay\":0.999, \"timesteps\":timesteps, \"episodes\":episodes, \"display\":[\"epsilon\"]},\n",
    "    {\"experiment_id\":3, \"seed\":5, \"sarsa\":False,  \"epsilon\": 0.5, \"alpha\":0.7, \"gamma\": 0.9, \"epsilon_decay\":0.999, \"timesteps\":timesteps, \"episodes\":episodes, \"display\":[\"epsilon\"]},\n",
    "    {\"experiment_id\":4, \"seed\":5, \"sarsa\":False,  \"epsilon\": 0, \"alpha\":0.7, \"gamma\": 0.9, \"epsilon_decay\":0.999, \"timesteps\":timesteps, \"episodes\":episodes, \"display\":[\"epsilon\"]}\n",
    "]\n",
    "\n",
    "\n",
    "# parameters = [\n",
    "#     {\"experiment_id\":1, \"sarsa\":False,  \"epsilon\": 0.9,  \"alpha\":0.7, \"gamma\": 0.7, \"epsilon_decay\":0.999, \"timesteps\":100, \"episodes\":episodes, \"display\":[\"sarsa\"]},\n",
    "#     {\"experiment_id\":2, \"sarsa\":True,   \"epsilon\": 0.9,  \"alpha\":0.7, \"gamma\": 0.7, \"epsilon_decay\":0.999, \"timesteps\":100, \"episodes\":episodes, \"display\":[\"sarsa\"]}\n",
    "#     ]\n"
   ]
  },
  {
   "cell_type": "code",
   "execution_count": 3,
   "id": "a7580cd6-c4c2-4488-bdf8-5e64103048f3",
   "metadata": {},
   "outputs": [],
   "source": [
    "#Create the Jungle and display "
   ]
  },
  {
   "cell_type": "code",
   "execution_count": 4,
   "id": "949db29c-9f65-4eae-abd9-eb4b21ab8144",
   "metadata": {},
   "outputs": [
    {
     "name": "stdout",
     "output_type": "stream",
     "text": [
      "[['_' '_' 'M' '_']\n",
      " ['_' '_' 'M' '_']\n",
      " ['_' '_' '_' '_']\n",
      " ['L' '_' 'B' 'E']\n",
      " ['_' 'R' '_' '_']\n",
      " ['T' '_' '_' '_']\n",
      " ['$' '_' 'S' 'E']]\n"
     ]
    }
   ],
   "source": [
    "'''\n",
    "jungle = Jungle(rows=5,cols=4,vanishing_treasure=False)\n",
    "jungle.add_topography([(1, 3, \"M\")])\n",
    "jungle.add_topography([(2, 2, \"S\")])\n",
    "jungle.add_topography([(4, 3, \"B\")])\n",
    "jungle.add_topography([(5, 2, \"R\")])\n",
    "jungle.add_topography([(4, 1, \"L\")])\n",
    "jungle.add_topography([(4, 4, \"E\"), (5, 4, \"E\")])\n",
    "jungle.add_topography([(1, 4, \"T\")])\n",
    "'''\n",
    "jungle = Jungle(rows=7,cols=4,vanishing_treasure=False,seed=45)\n",
    "jungle.add_topography([(1, 3, \"M\")])\n",
    "jungle.add_topography([(2, 3, \"M\")])\n",
    "jungle.add_topography([(4, 1, \"L\")])\n",
    "jungle.add_topography([(4, 3, \"B\")])\n",
    "jungle.add_topography([(4, 4, \"E\")])\n",
    "jungle.add_topography([(5, 2, \"R\")])\n",
    "jungle.add_topography([(7, 1, \"$\")])\n",
    "jungle.add_topography([(7, 3, \"S\")])\n",
    "jungle.add_topography([(7, 4, \"E\")])\n",
    "jungle.add_topography([(6, 1, \"T\")])\n",
    "\n",
    "jungle.fill_r_matrix()\n",
    "\n",
    "print(jungle.jungle_floor)\n",
    "\n"
   ]
  },
  {
   "cell_type": "markdown",
   "id": "7cbfc091-1df5-432c-8612-0a36834b7295",
   "metadata": {},
   "source": [
    "<h1>Start Policy Learning</h1>"
   ]
  },
  {
   "cell_type": "code",
   "execution_count": 5,
   "id": "a980815a-cbd4-4f8a-af82-73ddb797d2c1",
   "metadata": {},
   "outputs": [],
   "source": [
    "results = []\n",
    "for kwargs in parameters:\n",
    "    hiker = HikerAgent(jungle=jungle,sarsa = kwargs[\"sarsa\"])\n",
    "    results += hiker.train(**kwargs)"
   ]
  },
  {
   "cell_type": "markdown",
   "id": "cc7edcdb-baef-4959-9221-501a9fff2d5d",
   "metadata": {},
   "source": [
    "<h1>Display the results</h1>"
   ]
  },
  {
   "cell_type": "markdown",
   "id": "c969e42b-9da0-42ce-9d11-912d57baa007",
   "metadata": {},
   "source": [
    "</h1>Save the results to file</h1>"
   ]
  },
  {
   "cell_type": "code",
   "execution_count": 6,
   "id": "c55e3d86-7158-4f03-8596-4fee252c15f7",
   "metadata": {},
   "outputs": [],
   "source": [
    "import pandas as pd\n",
    "\n",
    "my_df = pd.DataFrame(results)\n",
    "my_df.to_csv(experiment_name + \"/\" + experiment_name + \"_results.csv\",header = True, index= True)\n"
   ]
  },
  {
   "cell_type": "code",
   "execution_count": 7,
   "id": "4c608ff9-99ee-4264-af10-3fa6225530ea",
   "metadata": {},
   "outputs": [
    {
     "data": {
      "image/png": "[encoded data removed]",
      "text/plain": [
       "<Figure size 432x288 with 1 Axes>"
      ]
     },
     "metadata": {
      "needs_background": "light"
     },
     "output_type": "display_data"
    },
    {
     "data": {
      "image/png": "[encoded data removed]",
      "text/plain": [
       "<Figure size 432x288 with 1 Axes>"
      ]
     },
     "metadata": {
      "needs_background": "light"
     },
     "output_type": "display_data"
    },
    {
     "data": {
      "image/png": "[encoded data removed]",
      "text/plain": [
       "<Figure size 432x288 with 1 Axes>"
      ]
     },
     "metadata": {
      "needs_background": "light"
     },
     "output_type": "display_data"
    }
   ],
   "source": [
    "\n",
    "for params in parameters:\n",
    "    # Get the experiment id\n",
    "    id = params[\"experiment_id\"]\n",
    "\n",
    "    # Get all the results for this experiment\n",
    "    exp_res = [res for res in results if res[\"experiment_id\"] == id]\n",
    "    settings = exp_res[0][\"parameters\"]\n",
    "    display_params = exp_res[0][\"parameters\"][\"display\"]\n",
    "    \n",
    "    \n",
    "    # Build the label\n",
    "    display_label = \"\"\n",
    "    for item in display_params:\n",
    "        display_label += item + \": \" + str(settings[item]) + \" \"\n",
    "\n",
    "\n",
    "    # For the experiment, get the metrics to display\n",
    "    rewards = np.array([[res[\"episode\"], res[\"episode_reward\"], 0] for res in exp_res])\n",
    "    steps_in_episode = np.array([[res[\"episode\"], res[\"steps_taken\"], 0] for res in exp_res])\n",
    "    ending_topography = np.array([[res[\"episode\"], res[\"topography\"], 0] for res in exp_res])\n",
    "    treasure_counter = np.array([[res[\"episode\"], res[\"treasure_counter\"], 0] for res in exp_res])\n",
    "\n",
    "\n",
    "    for i in range(len(rewards)):\n",
    "        rewards[i][2] = sum(rewards[0:i + 1, [1]]) / (i + 1)  # calculate the average cumulative reward\n",
    "        steps_in_episode[i][2] = sum(steps_in_episode[0:i + 1, [1]]) / (i + 1)  # calculate the average number of steps\n",
    "        #treasure_counter[i][2] = sum(treasure_counter[0:i + 1, [1]]) / (i + 1)  # calculate the average number of steps\n",
    "   \n",
    "    plt.figure(1)\n",
    "    plt.plot(rewards[:, [0]], rewards[:, [2]], label=display_label)\n",
    "    plt.title(\"Average Cummulative Reward\")\n",
    "    plt.figure(2)\n",
    "    plt.plot(steps_in_episode[:, [0]], steps_in_episode[:, [2]], label=display_label)\n",
    "    plt.title(\"Running Average Number of Steps\")\n",
    "    plt.figure(3)\n",
    "    plt.plot(treasure_counter[:, [0]], treasure_counter[:, [1]], label=display_label)\n",
    "    plt.title(\"Treasure Counter\")\n",
    "\n",
    "\n",
    "plt.figure(1)\n",
    "plt.legend()\n",
    "\n",
    "plt.figure(2)\n",
    "plt.legend()\n",
    "\n",
    "plt.figure(3)\n",
    "plt.legend()\n",
    "\n",
    "\n",
    "plt.show()"
   ]
  },
  {
   "cell_type": "code",
   "execution_count": 8,
   "id": "01b223df-c8b3-4b35-a3f4-1b90cb97f606",
   "metadata": {},
   "outputs": [
    {
     "name": "stdout",
     "output_type": "stream",
     "text": [
      "[[   0    0    0]\n",
      " [   1    0    0]\n",
      " [   2    0    0]\n",
      " ...\n",
      " [1997    0    0]\n",
      " [1998    0    0]\n",
      " [1999   34    0]]\n"
     ]
    }
   ],
   "source": [
    "print(treasure_counter)"
   ]
  },
  {
   "cell_type": "code",
   "execution_count": null,
   "id": "603e2328-4294-43b4-8a53-712597e76b59",
   "metadata": {},
   "outputs": [],
   "source": []
  }
 ],
 "metadata": {
  "kernelspec": {
   "display_name": "Python 3 (ipykernel)",
   "language": "python",
   "name": "python3"
  },
  "language_info": {
   "codemirror_mode": {
    "name": "ipython",
    "version": 3
   },
   "file_extension": ".py",
   "mimetype": "text/x-python",
   "name": "python",
   "nbconvert_exporter": "python",
   "pygments_lexer": "ipython3",
   "version": "3.9.5"
  }
 },
 "nbformat": 4,
 "nbformat_minor": 5
}
