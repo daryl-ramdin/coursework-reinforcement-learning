{
 "cells": [
  {
   "cell_type": "markdown",
   "metadata": {
    "id": "4Z2w7iCmxr_8"
   },
   "source": [
    "<h2>Install Packages</h2>"
   ]
  },
  {
   "cell_type": "code",
   "execution_count": null,
   "metadata": {
    "colab": {
     "base_uri": "https://localhost:8080/"
    },
    "executionInfo": {
     "elapsed": 22365,
     "status": "ok",
     "timestamp": 1682246414142,
     "user": {
      "displayName": "Daryl",
      "userId": "15313743877610411949"
     },
     "user_tz": -60
    },
    "id": "2z8iOTaemZlM",
    "outputId": "8e85fc91-071c-4d2d-cdfd-dcff6a31c7a8"
   },
   "outputs": [
    {
     "name": "stdout",
     "output_type": "stream",
     "text": [
      "Looking in indexes: https://pypi.org/simple, https://us-python.pkg.dev/colab-wheels/public/simple/\n",
      "Requirement already satisfied: ray in /usr/local/lib/python3.9/dist-packages (2.3.1)\n",
      "Requirement already satisfied: pyyaml in /usr/local/lib/python3.9/dist-packages (from ray) (6.0)\n",
      "Requirement already satisfied: aiosignal in /usr/local/lib/python3.9/dist-packages (from ray) (1.3.1)\n",
      "Requirement already satisfied: requests in /usr/local/lib/python3.9/dist-packages (from ray) (2.27.1)\n",
      "Requirement already satisfied: filelock in /usr/local/lib/python3.9/dist-packages (from ray) (3.11.0)\n",
      "Requirement already satisfied: virtualenv>=20.0.24 in /usr/local/lib/python3.9/dist-packages (from ray) (20.22.0)\n",
      "Requirement already satisfied: frozenlist in /usr/local/lib/python3.9/dist-packages (from ray) (1.3.3)\n",
      "Requirement already satisfied: msgpack<2.0.0,>=1.0.0 in /usr/local/lib/python3.9/dist-packages (from ray) (1.0.5)\n",
      "Requirement already satisfied: click>=7.0 in /usr/local/lib/python3.9/dist-packages (from ray) (8.1.3)\n",
      "Requirement already satisfied: protobuf!=3.19.5,>=3.15.3 in /usr/local/lib/python3.9/dist-packages (from ray) (3.20.3)\n",
      "Requirement already satisfied: grpcio>=1.32.0 in /usr/local/lib/python3.9/dist-packages (from ray) (1.53.0)\n",
      "Requirement already satisfied: numpy>=1.19.3 in /usr/local/lib/python3.9/dist-packages (from ray) (1.22.4)\n",
      "Requirement already satisfied: attrs in /usr/local/lib/python3.9/dist-packages (from ray) (23.1.0)\n",
      "Requirement already satisfied: jsonschema in /usr/local/lib/python3.9/dist-packages (from ray) (4.3.3)\n",
      "Requirement already satisfied: platformdirs<4,>=3.2 in /usr/local/lib/python3.9/dist-packages (from virtualenv>=20.0.24->ray) (3.2.0)\n",
      "Requirement already satisfied: distlib<1,>=0.3.6 in /usr/local/lib/python3.9/dist-packages (from virtualenv>=20.0.24->ray) (0.3.6)\n",
      "Requirement already satisfied: pyrsistent!=0.17.0,!=0.17.1,!=0.17.2,>=0.14.0 in /usr/local/lib/python3.9/dist-packages (from jsonschema->ray) (0.19.3)\n",
      "Requirement already satisfied: urllib3<1.27,>=1.21.1 in /usr/local/lib/python3.9/dist-packages (from requests->ray) (1.26.15)\n",
      "Requirement already satisfied: idna<4,>=2.5 in /usr/local/lib/python3.9/dist-packages (from requests->ray) (3.4)\n",
      "Requirement already satisfied: certifi>=2017.4.17 in /usr/local/lib/python3.9/dist-packages (from requests->ray) (2022.12.7)\n",
      "Requirement already satisfied: charset-normalizer~=2.0.0 in /usr/local/lib/python3.9/dist-packages (from requests->ray) (2.0.12)\n",
      "Looking in indexes: https://pypi.org/simple, https://us-python.pkg.dev/colab-wheels/public/simple/\n",
      "Requirement already satisfied: gymnasium in /usr/local/lib/python3.9/dist-packages (0.28.1)\n",
      "Requirement already satisfied: typing-extensions>=4.3.0 in /usr/local/lib/python3.9/dist-packages (from gymnasium) (4.5.0)\n",
      "Requirement already satisfied: jax-jumpy>=1.0.0 in /usr/local/lib/python3.9/dist-packages (from gymnasium) (1.0.0)\n",
      "Requirement already satisfied: farama-notifications>=0.0.1 in /usr/local/lib/python3.9/dist-packages (from gymnasium) (0.0.4)\n",
      "Requirement already satisfied: importlib-metadata>=4.8.0 in /usr/local/lib/python3.9/dist-packages (from gymnasium) (6.4.1)\n",
      "Requirement already satisfied: cloudpickle>=1.2.0 in /usr/local/lib/python3.9/dist-packages (from gymnasium) (2.2.1)\n",
      "Requirement already satisfied: numpy>=1.21.0 in /usr/local/lib/python3.9/dist-packages (from gymnasium) (1.22.4)\n",
      "Requirement already satisfied: zipp>=0.5 in /usr/local/lib/python3.9/dist-packages (from importlib-metadata>=4.8.0->gymnasium) (3.15.0)\n",
      "Looking in indexes: https://pypi.org/simple, https://us-python.pkg.dev/colab-wheels/public/simple/\n",
      "Requirement already satisfied: gymnasium[atari] in /usr/local/lib/python3.9/dist-packages (0.28.1)\n",
      "Requirement already satisfied: importlib-metadata>=4.8.0 in /usr/local/lib/python3.9/dist-packages (from gymnasium[atari]) (6.4.1)\n",
      "Requirement already satisfied: cloudpickle>=1.2.0 in /usr/local/lib/python3.9/dist-packages (from gymnasium[atari]) (2.2.1)\n",
      "Requirement already satisfied: farama-notifications>=0.0.1 in /usr/local/lib/python3.9/dist-packages (from gymnasium[atari]) (0.0.4)\n",
      "Requirement already satisfied: typing-extensions>=4.3.0 in /usr/local/lib/python3.9/dist-packages (from gymnasium[atari]) (4.5.0)\n",
      "Requirement already satisfied: jax-jumpy>=1.0.0 in /usr/local/lib/python3.9/dist-packages (from gymnasium[atari]) (1.0.0)\n",
      "Requirement already satisfied: numpy>=1.21.0 in /usr/local/lib/python3.9/dist-packages (from gymnasium[atari]) (1.22.4)\n",
      "Requirement already satisfied: shimmy[atari]<1.0,>=0.1.0 in /usr/local/lib/python3.9/dist-packages (from gymnasium[atari]) (0.2.1)\n",
      "Requirement already satisfied: zipp>=0.5 in /usr/local/lib/python3.9/dist-packages (from importlib-metadata>=4.8.0->gymnasium[atari]) (3.15.0)\n",
      "Requirement already satisfied: ale-py~=0.8.1 in /usr/local/lib/python3.9/dist-packages (from shimmy[atari]<1.0,>=0.1.0->gymnasium[atari]) (0.8.1)\n",
      "Requirement already satisfied: importlib-resources in /usr/local/lib/python3.9/dist-packages (from ale-py~=0.8.1->shimmy[atari]<1.0,>=0.1.0->gymnasium[atari]) (5.12.0)\n",
      "Looking in indexes: https://pypi.org/simple, https://us-python.pkg.dev/colab-wheels/public/simple/\n",
      "Requirement already satisfied: gymnasium[accept-rom-license] in /usr/local/lib/python3.9/dist-packages (0.28.1)\n",
      "Requirement already satisfied: cloudpickle>=1.2.0 in /usr/local/lib/python3.9/dist-packages (from gymnasium[accept-rom-license]) (2.2.1)\n",
      "Requirement already satisfied: farama-notifications>=0.0.1 in /usr/local/lib/python3.9/dist-packages (from gymnasium[accept-rom-license]) (0.0.4)\n",
      "Requirement already satisfied: importlib-metadata>=4.8.0 in /usr/local/lib/python3.9/dist-packages (from gymnasium[accept-rom-license]) (6.4.1)\n",
      "Requirement already satisfied: numpy>=1.21.0 in /usr/local/lib/python3.9/dist-packages (from gymnasium[accept-rom-license]) (1.22.4)\n",
      "Requirement already satisfied: jax-jumpy>=1.0.0 in /usr/local/lib/python3.9/dist-packages (from gymnasium[accept-rom-license]) (1.0.0)\n",
      "Requirement already satisfied: typing-extensions>=4.3.0 in /usr/local/lib/python3.9/dist-packages (from gymnasium[accept-rom-license]) (4.5.0)\n",
      "Requirement already satisfied: autorom[accept-rom-license]~=0.4.2 in /usr/local/lib/python3.9/dist-packages (from gymnasium[accept-rom-license]) (0.4.2)\n",
      "Requirement already satisfied: tqdm in /usr/local/lib/python3.9/dist-packages (from autorom[accept-rom-license]~=0.4.2->gymnasium[accept-rom-license]) (4.65.0)\n",
      "Requirement already satisfied: requests in /usr/local/lib/python3.9/dist-packages (from autorom[accept-rom-license]~=0.4.2->gymnasium[accept-rom-license]) (2.27.1)\n",
      "Requirement already satisfied: click in /usr/local/lib/python3.9/dist-packages (from autorom[accept-rom-license]~=0.4.2->gymnasium[accept-rom-license]) (8.1.3)\n",
      "Requirement already satisfied: AutoROM.accept-rom-license in /usr/local/lib/python3.9/dist-packages (from autorom[accept-rom-license]~=0.4.2->gymnasium[accept-rom-license]) (0.6.1)\n",
      "Requirement already satisfied: zipp>=0.5 in /usr/local/lib/python3.9/dist-packages (from importlib-metadata>=4.8.0->gymnasium[accept-rom-license]) (3.15.0)\n",
      "Requirement already satisfied: charset-normalizer~=2.0.0 in /usr/local/lib/python3.9/dist-packages (from requests->autorom[accept-rom-license]~=0.4.2->gymnasium[accept-rom-license]) (2.0.12)\n",
      "Requirement already satisfied: idna<4,>=2.5 in /usr/local/lib/python3.9/dist-packages (from requests->autorom[accept-rom-license]~=0.4.2->gymnasium[accept-rom-license]) (3.4)\n",
      "Requirement already satisfied: urllib3<1.27,>=1.21.1 in /usr/local/lib/python3.9/dist-packages (from requests->autorom[accept-rom-license]~=0.4.2->gymnasium[accept-rom-license]) (1.26.15)\n",
      "Requirement already satisfied: certifi>=2017.4.17 in /usr/local/lib/python3.9/dist-packages (from requests->autorom[accept-rom-license]~=0.4.2->gymnasium[accept-rom-license]) (2022.12.7)\n",
      "Looking in indexes: https://pypi.org/simple, https://us-python.pkg.dev/colab-wheels/public/simple/\n",
      "Requirement already satisfied: tensorboardx in /usr/local/lib/python3.9/dist-packages (2.6)\n",
      "Requirement already satisfied: numpy in /usr/local/lib/python3.9/dist-packages (from tensorboardx) (1.22.4)\n",
      "Requirement already satisfied: packaging in /usr/local/lib/python3.9/dist-packages (from tensorboardx) (23.1)\n",
      "Requirement already satisfied: protobuf<4,>=3.8.0 in /usr/local/lib/python3.9/dist-packages (from tensorboardx) (3.20.3)\n"
     ]
    }
   ],
   "source": [
    "#Reference for this code came from https://docs.ray.io/en/latest/rllib/rllib-algorithms.html#dqn\n",
    "!pip install ray\n",
    "!pip install gymnasium\n",
    "!pip install \"gymnasium[atari]\"\n",
    "!pip install \"gymnasium[accept-rom-license]\"\n",
    "!pip install -U tensorboardx\n",
    "\n",
    "import ray\n",
    "import gymnasium \n",
    "import torch\n",
    "import numpy as np\n",
    "import matplotlib.pyplot as plt\n",
    "from datetime import datetime\n",
    "                 \n",
    "from ray.rllib.algorithms.dqn.dqn import DQNConfig\n",
    "from ray.rllib.algorithms.ppo import PPOConfig\n",
    "from ray.tune.logger import pretty_print\n",
    "from ray import air, tune\n"
   ]
  },
  {
   "cell_type": "markdown",
   "metadata": {},
   "source": [
    "<h3>Select device</h3>"
   ]
  },
  {
   "cell_type": "code",
   "execution_count": null,
   "metadata": {
    "colab": {
     "base_uri": "https://localhost:8080/"
    },
    "executionInfo": {
     "elapsed": 7,
     "status": "ok",
     "timestamp": 1682246414143,
     "user": {
      "displayName": "Daryl",
      "userId": "15313743877610411949"
     },
     "user_tz": -60
    },
    "id": "9Xo4xKMDo__M",
    "outputId": "b5a01ad1-be89-4fcf-90b8-e4426b44d8d1"
   },
   "outputs": [
    {
     "name": "stdout",
     "output_type": "stream",
     "text": [
      "Selected device: cuda\n"
     ]
    }
   ],
   "source": [
    "device = torch.device(\"cpu\")\n",
    "if torch.cuda.is_available():\n",
    "    device = torch.device('cuda')\n",
    "\n",
    "print(\"Selected device:\",device)"
   ]
  },
  {
   "cell_type": "markdown",
   "metadata": {},
   "source": [
    "<h3>Train</h3>"
   ]
  },
  {
   "cell_type": "code",
   "execution_count": null,
   "metadata": {
    "colab": {
     "base_uri": "https://localhost:8080/"
    },
    "executionInfo": {
     "elapsed": 4762447,
     "status": "ok",
     "timestamp": 1682251177251,
     "user": {
      "displayName": "Daryl",
      "userId": "15313743877610411949"
     },
     "user_tz": -60
    },
    "id": "SHE415TFxHwr",
    "outputId": "bec460dc-2b7f-4239-b7da-ef530da611e9"
   },
   "outputs": [
    {
     "name": "stderr",
     "output_type": "stream",
     "text": [
      "2023-04-23 10:40:17,470\tWARNING util.py:67 -- Install gputil for GPU system monitoring.\n"
     ]
    },
    {
     "name": "stdout",
     "output_type": "stream",
     "text": [
      "Epoch 0 Episode Mean Reward 1500.0 Duration(s) 8.1752\n",
      "Epoch 10 Episode Mean Reward 909.5833333333334 Duration(s) 244.956353\n",
      "Epoch 20 Episode Mean Reward 912.7083333333334 Duration(s) 241.427277\n",
      "Epoch 30 Episode Mean Reward 949.1428571428571 Duration(s) 241.674807\n",
      "Epoch 40 Episode Mean Reward 980.6593406593406 Duration(s) 240.599006\n",
      "Epoch 50 Episode Mean Reward 983.9 Duration(s) 239.134417\n",
      "Epoch 60 Episode Mean Reward 1057.7 Duration(s) 243.31618\n",
      "Epoch 70 Episode Mean Reward 1178.1 Duration(s) 240.073083\n",
      "Epoch 80 Episode Mean Reward 1227.7 Duration(s) 239.206643\n",
      "Epoch 90 Episode Mean Reward 1220.7 Duration(s) 238.586118\n"
     ]
    },
    {
     "name": "stderr",
     "output_type": "stream",
     "text": [
      "2023-04-23 11:20:14,320\tWARNING util.py:67 -- Install gputil for GPU system monitoring.\n"
     ]
    },
    {
     "name": "stdout",
     "output_type": "stream",
     "text": [
      "Epoch 0 Episode Mean Reward 1420.0 Duration(s) 4.832803\n",
      "Epoch 10 Episode Mean Reward 959.5238095238095 Duration(s) 233.792658\n",
      "Epoch 20 Episode Mean Reward 814.8076923076923 Duration(s) 237.20362\n",
      "Epoch 30 Episode Mean Reward 844.6753246753246 Duration(s) 238.565059\n",
      "Epoch 40 Episode Mean Reward 890.3157894736842 Duration(s) 238.598104\n",
      "Epoch 50 Episode Mean Reward 902.0 Duration(s) 239.625361\n",
      "Epoch 60 Episode Mean Reward 1006.0 Duration(s) 238.841663\n",
      "Epoch 70 Episode Mean Reward 1107.4 Duration(s) 237.986472\n",
      "Epoch 80 Episode Mean Reward 1182.7 Duration(s) 239.104955\n",
      "Epoch 90 Episode Mean Reward 1255.8 Duration(s) 237.815239\n"
     ]
    }
   ],
   "source": [
    "#Reference for this code came from https://docs.ray.io/en/latest/rllib/rllib-algorithms.html#dqn\n",
    "\n",
    "environ = \"Riverraid-ramDeterministic-v4\"\n",
    "episodes = 200\n",
    "\n",
    "parameters = [\n",
    "      {\"experiment_id\":1, \"capacity\":5000, \"prioritized_replay_alpha\": 0.6,\"prioritized_replay\":False, \"episodes\":episodes, \"display\":[\"prioritized_replay\"]}\n",
    "     ,{\"experiment_id\":2, \"capacity\":5000, \"prioritized_replay_alpha\": 0.6,\"prioritized_replay\":True, \"episodes\":episodes, \"display\":[\"prioritized_replay\"]}\n",
    "]\n",
    "\n",
    "final_results = []\n",
    "for param in parameters:\n",
    "  config = DQNConfig()\n",
    "  config = config.environment(environ)\n",
    "  config.replay_buffer_config[\"capacity\"] = param[\"capacity\"]\n",
    "  config.replay_buffer_config[\"prioritized_replay_alpha\"] = param[\"prioritized_replay_alpha\"]\n",
    "  config.double_q = True\n",
    "  if torch.cuda.is_available(): config = config.resources(num_gpus = 1)\n",
    "  config.replay_buffer_config[\"prioritized_replay\"] = param[\"prioritized_replay\"]\n",
    "  algo = config.build()\n",
    "\n",
    "\n",
    "  episode_results = []\n",
    "  start_time = datetime.now()\n",
    "  for episode in range(param[\"episodes\"]):\n",
    "      results = algo.train()\n",
    "      episode_results.append({\"experiment_id\": param[\"experiment_id\"], \"parameters\": param, \"episode\": episode,\"episode_mean_reward\": results[\"episode_reward_mean\"]})\n",
    "      if episode%10==0:\n",
    "        end_time = datetime.now()\n",
    "        time_diff = end_time-start_time\n",
    "        print(\"Epoch\",episode,\"Episode Mean Reward\",results[\"episode_reward_mean\"], \"Duration(s)\",time_diff.total_seconds())\n",
    "        start_time = datetime.now()\n",
    "  final_results += episode_results\n",
    "\n",
    "\n",
    "\n"
   ]
  },
  {
   "cell_type": "code",
   "execution_count": null,
   "metadata": {
    "colab": {
     "base_uri": "https://localhost:8080/",
     "height": 452
    },
    "executionInfo": {
     "elapsed": 8,
     "status": "ok",
     "timestamp": 1682251177252,
     "user": {
      "displayName": "Daryl",
      "userId": "15313743877610411949"
     },
     "user_tz": -60
    },
    "id": "IfM0RV1Amezy",
    "outputId": "367eb045-da02-4e61-cbce-ce6e23c60c5f"
   },
   "outputs": [
    {
     "data": {
      "image/png": "[encoded data removed]",
      "text/plain": [
       "<Figure size 640x480 with 1 Axes>"
      ]
     },
     "metadata": {},
     "output_type": "display_data"
    }
   ],
   "source": [
    "for params in parameters:\n",
    "    # Get the experiment id\n",
    "    id = params[\"experiment_id\"]\n",
    "    display_params = params[\"display\"]\n",
    "    # Get all the results for this experiment\n",
    "    exp_res = [res for res in final_results if res[\"experiment_id\"] == id]\n",
    "    \n",
    "    # Build the label\n",
    "    display_label = \"\"\n",
    "    for item in display_params:\n",
    "        display_label += item + \": \" + str(params[item]) + \" \"\n",
    "\n",
    "\n",
    "    # For the experiment, get the metrics to display\n",
    "    rewards = np.array([[res[\"episode\"], res[\"episode_mean_reward\"], 0] for res in exp_res])\n",
    "\n",
    "    for i in range(len(rewards)):\n",
    "        rewards[i][2] = sum(rewards[0:i + 1, [1]]) / (i + 1)  # calculate the average cumulative reward\n",
    "\n",
    "    plt.figure(1)\n",
    "    plt.plot(rewards[:, [0]], rewards[:, [1]], label=display_label)\n",
    "    plt.title(\"Episode Mean Reward\")\n",
    "\n",
    "plt.figure(1)\n",
    "plt.legend()\n",
    "\n",
    "plt.show()"
   ]
  },
  {
   "cell_type": "code",
   "execution_count": null,
   "metadata": {
    "id": "xBwQwA6vPtZV"
   },
   "outputs": [],
   "source": [
    "\n"
   ]
  }
 ],
 "metadata": {
  "accelerator": "GPU",
  "colab": {
   "authorship_tag": "ABX9TyPexypY62pBCsmBk784VWjk",
   "mount_file_id": "https://github.com/daryl-ramdin/inm707-daryl-ramdin/blob/main/mountaincar.ipynb",
   "provenance": [
    {
     "file_id": "1w6bDfVK0rbILHWv3NlEsyPGc0GB7JUjw",
     "timestamp": 1682252867656
    },
    {
     "file_id": "https://github.com/daryl-ramdin/inm707-daryl-ramdin/blob/main/atari.ipynb",
     "timestamp": 1682210409119
    }
   ]
  },
  "gpuClass": "standard",
  "kernelspec": {
   "display_name": "Python 3 (ipykernel)",
   "language": "python",
   "name": "python3"
  },
  "language_info": {
   "codemirror_mode": {
    "name": "ipython",
    "version": 3
   },
   "file_extension": ".py",
   "mimetype": "text/x-python",
   "name": "python",
   "nbconvert_exporter": "python",
   "pygments_lexer": "ipython3",
   "version": "3.9.13"
  }
 },
 "nbformat": 4,
 "nbformat_minor": 4
}
