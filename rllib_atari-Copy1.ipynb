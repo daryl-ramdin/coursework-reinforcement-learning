{
 "cells": [
  {
   "cell_type": "markdown",
   "metadata": {
    "id": "4Z2w7iCmxr_8"
   },
   "source": [
    "<h2>Install Packages</h2>"
   ]
  },
  {
   "cell_type": "code",
   "execution_count": null,
   "metadata": {
    "colab": {
     "base_uri": "https://localhost:8080/"
    },
    "executionInfo": {
     "elapsed": 22365,
     "status": "ok",
     "timestamp": 1682246414142,
     "user": {
      "displayName": "Daryl",
      "userId": "15313743877610411949"
     },
     "user_tz": -60
    },
    "id": "2z8iOTaemZlM",
    "outputId": "8e85fc91-071c-4d2d-cdfd-dcff6a31c7a8"
   },
   "outputs": [],
   "source": [
    "#Reference for this code came from https://docs.ray.io/en/latest/rllib/rllib-algorithms.html#dqn\n",
    "!pip install ray\n",
    "!pip install gymnasium\n",
    "!pip install \"gymnasium[atari]\"\n",
    "!pip install \"gymnasium[accept-rom-license]\"\n",
    "!pip install -U tensorboardx\n",
    "\n",
    "import ray\n",
    "import gymnasium \n",
    "import torch\n",
    "import numpy as np\n",
    "import matplotlib.pyplot as plt\n",
    "from datetime import datetime\n",
    "                 \n",
    "from ray.rllib.algorithms.dqn.dqn import DQNConfig\n",
    "from ray.rllib.algorithms.ppo import PPOConfig\n",
    "from ray.tune.logger import pretty_print\n",
    "from ray import air, tune\n"
   ]
  },
  {
   "cell_type": "markdown",
   "metadata": {},
   "source": [
    "<h3>Select device</h3>"
   ]
  },
  {
   "cell_type": "code",
   "execution_count": null,
   "metadata": {
    "colab": {
     "base_uri": "https://localhost:8080/"
    },
    "executionInfo": {
     "elapsed": 7,
     "status": "ok",
     "timestamp": 1682246414143,
     "user": {
      "displayName": "Daryl",
      "userId": "15313743877610411949"
     },
     "user_tz": -60
    },
    "id": "9Xo4xKMDo__M",
    "outputId": "b5a01ad1-be89-4fcf-90b8-e4426b44d8d1"
   },
   "outputs": [],
   "source": [
    "device = torch.device(\"cpu\")\n",
    "if torch.cuda.is_available():\n",
    "    device = torch.device('cuda')\n",
    "\n",
    "print(\"Selected device:\",device)"
   ]
  },
  {
   "cell_type": "markdown",
   "metadata": {},
   "source": [
    "<h3>Train</h3>"
   ]
  },
  {
   "cell_type": "code",
   "execution_count": null,
   "metadata": {
    "colab": {
     "base_uri": "https://localhost:8080/"
    },
    "executionInfo": {
     "elapsed": 4762447,
     "status": "ok",
     "timestamp": 1682251177251,
     "user": {
      "displayName": "Daryl",
      "userId": "15313743877610411949"
     },
     "user_tz": -60
    },
    "id": "SHE415TFxHwr",
    "outputId": "bec460dc-2b7f-4239-b7da-ef530da611e9"
   },
   "outputs": [],
   "source": [
    "#Reference for this code came from https://docs.ray.io/en/latest/rllib/rllib-algorithms.html#dqn\n",
    "\n",
    "environ = \"Riverraid-ramDeterministic-v4\"\n",
    "episodes = 200\n",
    "\n",
    "parameters = [\n",
    "      {\"experiment_id\":1, \"capacity\":5000, \"prioritized_replay_alpha\": 0.6,\"prioritized_replay\":False, \"episodes\":episodes, \"display\":[\"prioritized_replay\"]}\n",
    "     ,{\"experiment_id\":2, \"capacity\":5000, \"prioritized_replay_alpha\": 0.6,\"prioritized_replay\":True, \"episodes\":episodes, \"display\":[\"prioritized_replay\"]}\n",
    "]\n",
    "\n",
    "final_results = []\n",
    "for param in parameters:\n",
    "  config = DQNConfig()\n",
    "  config = config.environment(environ)\n",
    "  config.replay_buffer_config[\"capacity\"] = param[\"capacity\"]\n",
    "  config.replay_buffer_config[\"prioritized_replay_alpha\"] = param[\"prioritized_replay_alpha\"]\n",
    "  config.double_q = True\n",
    "  if torch.cuda.is_available(): config = config.resources(num_gpus = 1)\n",
    "  config.replay_buffer_config[\"prioritized_replay\"] = param[\"prioritized_replay\"]\n",
    "  algo = config.build()\n",
    "\n",
    "\n",
    "  episode_results = []\n",
    "  start_time = datetime.now()\n",
    "  for episode in range(param[\"episodes\"]):\n",
    "      results = algo.train()\n",
    "      episode_results.append({\"experiment_id\": param[\"experiment_id\"], \"parameters\": param, \"episode\": episode,\"episode_mean_reward\": results[\"episode_reward_mean\"]})\n",
    "      if episode%10==0:\n",
    "        end_time = datetime.now()\n",
    "        time_diff = end_time-start_time\n",
    "        print(\"Epoch\",episode,\"Episode Mean Reward\",results[\"episode_reward_mean\"], \"Duration(s)\",time_diff.total_seconds())\n",
    "        start_time = datetime.now()\n",
    "  final_results += episode_results\n",
    "\n",
    "\n",
    "\n"
   ]
  },
  {
   "cell_type": "code",
   "execution_count": null,
   "metadata": {
    "colab": {
     "base_uri": "https://localhost:8080/",
     "height": 452
    },
    "executionInfo": {
     "elapsed": 8,
     "status": "ok",
     "timestamp": 1682251177252,
     "user": {
      "displayName": "Daryl",
      "userId": "15313743877610411949"
     },
     "user_tz": -60
    },
    "id": "IfM0RV1Amezy",
    "outputId": "367eb045-da02-4e61-cbce-ce6e23c60c5f"
   },
   "outputs": [],
   "source": [
    "for params in parameters:\n",
    "    # Get the experiment id\n",
    "    id = params[\"experiment_id\"]\n",
    "    display_params = params[\"display\"]\n",
    "    # Get all the results for this experiment\n",
    "    exp_res = [res for res in final_results if res[\"experiment_id\"] == id]\n",
    "    \n",
    "    # Build the label\n",
    "    display_label = \"\"\n",
    "    for item in display_params:\n",
    "        display_label += item + \": \" + str(params[item]) + \" \"\n",
    "\n",
    "\n",
    "    # For the experiment, get the metrics to display\n",
    "    rewards = np.array([[res[\"episode\"], res[\"episode_mean_reward\"], 0] for res in exp_res])\n",
    "\n",
    "    for i in range(len(rewards)):\n",
    "        rewards[i][2] = sum(rewards[0:i + 1, [1]]) / (i + 1)  # calculate the average cumulative reward\n",
    "\n",
    "    plt.figure(1)\n",
    "    plt.plot(rewards[:, [0]], rewards[:, [1]], label=display_label)\n",
    "    plt.title(\"Episode Mean Reward\")\n",
    "\n",
    "plt.figure(1)\n",
    "plt.legend()\n",
    "\n",
    "plt.show()"
   ]
  },
  {
   "cell_type": "code",
   "execution_count": null,
   "metadata": {
    "id": "xBwQwA6vPtZV"
   },
   "outputs": [],
   "source": [
    "\n"
   ]
  }
 ],
 "metadata": {
  "accelerator": "GPU",
  "colab": {
   "authorship_tag": "ABX9TyPexypY62pBCsmBk784VWjk",
   "mount_file_id": "https://github.com/daryl-ramdin/inm707-daryl-ramdin/blob/main/mountaincar.ipynb",
   "provenance": [
    {
     "file_id": "1w6bDfVK0rbILHWv3NlEsyPGc0GB7JUjw",
     "timestamp": 1682252867656
    },
    {
     "file_id": "https://github.com/daryl-ramdin/inm707-daryl-ramdin/blob/main/atari.ipynb",
     "timestamp": 1682210409119
    }
   ]
  },
  "gpuClass": "standard",
  "kernelspec": {
   "display_name": "Python 3 (ipykernel)",
   "language": "python",
   "name": "python3"
  },
  "language_info": {
   "codemirror_mode": {
    "name": "ipython",
    "version": 3
   },
   "file_extension": ".py",
   "mimetype": "text/x-python",
   "name": "python",
   "nbconvert_exporter": "python",
   "pygments_lexer": "ipython3",
   "version": "3.9.13"
  }
 },
 "nbformat": 4,
 "nbformat_minor": 4
}
